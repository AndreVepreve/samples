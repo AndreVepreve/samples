{
 "cells": [
  {
   "cell_type": "markdown",
   "id": "86d95cc8",
   "metadata": {},
   "source": [
    "# Mathematics for Machine Learning — Exercises & Demos\n",
    "\n",
    "This notebook complements the `math-for-ml.md` file with runnable NumPy code and simple plots."
   ]
  },
  {
   "cell_type": "markdown",
   "id": "b5d5f3ba",
   "metadata": {},
   "source": [
    "## 1. Norms & Inequalities"
   ]
  },
  {
   "cell_type": "code",
   "execution_count": null,
   "id": "7597370e",
   "metadata": {},
   "outputs": [],
   "source": [
    "\n",
    "import numpy as np\n",
    "\n",
    "def l2_norm(x): return np.sqrt(np.sum(x**2))\n",
    "def l1_norm(x): return np.sum(np.abs(x))\n",
    "def linf_norm(x): return np.max(np.abs(x))\n",
    "\n",
    "def fro_norm(A): return np.sqrt(np.sum(A**2))\n",
    "\n",
    "def cauchy_schwarz(a,b):\n",
    "    lhs = abs(a @ b)\n",
    "    rhs = l2_norm(a) * l2_norm(b)\n",
    "    return lhs <= rhs + 1e-12, lhs, rhs\n",
    "\n",
    "def triangle_inequality(a,b):\n",
    "    lhs = l2_norm(a+b)\n",
    "    rhs = l2_norm(a) + l2_norm(b)\n",
    "    return lhs <= rhs + 1e-12, lhs, rhs\n",
    "\n",
    "np.random.seed(0)\n",
    "a = np.random.randn(10)\n",
    "b = np.random.randn(10)\n",
    "\n",
    "print(\"||a||1, ||a||2, ||a||inf:\", l1_norm(a), l2_norm(a), linf_norm(a))\n",
    "print(\"Cauchy–Schwarz holds? ->\", cauchy_schwarz(a,b)[0])\n",
    "print(\"Triangle inequality holds? ->\", triangle_inequality(a,b)[0])\n"
   ]
  },
  {
   "cell_type": "markdown",
   "id": "0d102fff",
   "metadata": {},
   "source": [
    "## 2. SVD & Low-Rank Approximation"
   ]
  },
  {
   "cell_type": "code",
   "execution_count": null,
   "id": "010e6503",
   "metadata": {},
   "outputs": [],
   "source": [
    "\n",
    "import numpy as np\n",
    "\n",
    "np.random.seed(1)\n",
    "A = np.random.randn(40, 20)\n",
    "U, S, Vt = np.linalg.svd(A, full_matrices=False)\n",
    "\n",
    "k = 5\n",
    "Ak = U[:, :k] @ np.diag(S[:k]) @ Vt[:k, :]\n",
    "fro_error = np.linalg.norm(A - Ak, 'fro') / np.linalg.norm(A, 'fro')\n",
    "fro_error\n"
   ]
  },
  {
   "cell_type": "markdown",
   "id": "2f816393",
   "metadata": {},
   "source": [
    "## 3. PCA via SVD — Explained Variance Curve"
   ]
  },
  {
   "cell_type": "code",
   "execution_count": null,
   "id": "113fb60d",
   "metadata": {},
   "outputs": [],
   "source": [
    "\n",
    "import numpy as np\n",
    "import matplotlib.pyplot as plt\n",
    "\n",
    "np.random.seed(2)\n",
    "X = np.random.randn(200, 8)\n",
    "Xc = X - X.mean(axis=0, keepdims=True)\n",
    "\n",
    "U, S, Vt = np.linalg.svd(Xc, full_matrices=False)\n",
    "var = (S**2) / (Xc.shape[0]-1)\n",
    "explained = var / var.sum()\n",
    "cumulative = np.cumsum(explained)\n",
    "\n",
    "plt.figure()\n",
    "plt.plot(range(1, len(explained)+1), cumulative, marker='o')\n",
    "plt.title(\"PCA: Cumulative Explained Variance\")\n",
    "plt.xlabel(\"Number of Components\")\n",
    "plt.ylabel(\"Cumulative Variance Ratio\")\n",
    "plt.grid(True)\n",
    "plt.show()\n"
   ]
  },
  {
   "cell_type": "markdown",
   "id": "88974893",
   "metadata": {},
   "source": [
    "## 4. Linear Regression: Closed Form, GD, Ridge"
   ]
  },
  {
   "cell_type": "code",
   "execution_count": null,
   "id": "a7c13c49",
   "metadata": {},
   "outputs": [],
   "source": [
    "\n",
    "import numpy as np\n",
    "import matplotlib.pyplot as plt\n",
    "\n",
    "np.random.seed(3)\n",
    "n, d = 200, 5\n",
    "X = np.random.randn(n, d)\n",
    "true_w = np.array([1.0, -2.0, 0.5, 0.0, 3.0])\n",
    "y = X @ true_w + 0.1*np.random.randn(n)\n",
    "\n",
    "# Closed form\n",
    "w_hat = np.linalg.solve(X.T @ X, X.T @ y)\n",
    "\n",
    "# Ridge\n",
    "lam = 1e-1\n",
    "w_ridge = np.linalg.solve(X.T @ X + n*lam*np.eye(d), X.T @ y)\n",
    "\n",
    "# GD\n",
    "w = np.zeros(d)\n",
    "eta = 5e-3\n",
    "hist = []\n",
    "for t in range(2000):\n",
    "    grad = (X.T @ (X @ w - y)) / n\n",
    "    w -= eta * grad\n",
    "    mse = np.mean((X @ w - y)**2)\n",
    "    hist.append(mse)\n",
    "\n",
    "plt.figure()\n",
    "plt.plot(hist)\n",
    "plt.title(\"Gradient Descent MSE\")\n",
    "plt.xlabel(\"Iteration\")\n",
    "plt.ylabel(\"MSE\")\n",
    "plt.grid(True)\n",
    "plt.show()\n",
    "\n",
    "w_hat, w_ridge, w\n"
   ]
  }
 ],
 "metadata": {
  "kernelspec": {
   "display_name": "Python 3",
   "name": "python3"
  }
 },
 "nbformat": 4,
 "nbformat_minor": 5
}
