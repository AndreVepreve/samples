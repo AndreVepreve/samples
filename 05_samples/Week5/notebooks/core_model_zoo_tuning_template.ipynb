{
 "cells": [
  {
   "cell_type": "markdown",
   "id": "0763e275",
   "metadata": {},
   "source": [
    "# Core Model Zoo — Tuning Template\n",
    "This notebook demonstrates leak‑free preprocessing with ColumnTransformer + Pipeline, and uses RandomizedSearchCV / grids to tune a few strong baselines.\n",
    "**Steps**: synth data → split → preprocess → tune → calibrate → evaluate → save.\n"
   ]
  },
  {
   "cell_type": "code",
   "execution_count": null,
   "id": "7f2d8f4c",
   "metadata": {},
   "outputs": [],
   "source": [
    "\n",
    "import numpy as np, pandas as pd, joblib\n",
    "from pathlib import Path\n",
    "from sklearn.datasets import make_classification\n",
    "from sklearn.model_selection import train_test_split, StratifiedKFold, RandomizedSearchCV\n",
    "from sklearn.compose import ColumnTransformer\n",
    "from sklearn.pipeline import Pipeline\n",
    "from sklearn.preprocessing import OneHotEncoder, StandardScaler\n",
    "from sklearn.linear_model import LogisticRegression\n",
    "from sklearn.ensemble import RandomForestClassifier, HistGradientBoostingClassifier\n",
    "from sklearn.svm import SVC\n",
    "from sklearn.neighbors import KNeighborsClassifier\n",
    "from sklearn.calibration import CalibratedClassifierCV, calibration_curve\n",
    "from sklearn.metrics import classification_report, roc_auc_score, average_precision_score, brier_score_loss\n",
    "from importlib import import_module\n",
    "\n",
    "# Synthetic tabular toy dataset + a couple of categoricals\n",
    "X_num, y = make_classification(n_samples=6000, n_features=20, n_informative=8, weights=[0.85,0.15], random_state=42)\n",
    "X = pd.DataFrame(X_num, columns=[f\"f{i}\" for i in range(20)])\n",
    "rng = np.random.default_rng(42)\n",
    "X[\"country\"] = rng.choice([\"US\",\"DE\",\"IN\",\"BR\"], size=len(X), p=[.4,.2,.25,.15])\n",
    "X[\"device\"] = rng.choice([\"mobile\",\"desktop\",\"tablet\"], size=len(X), p=[.6,.35,.05])\n",
    "\n",
    "X_train, X_test, y_train, y_test = train_test_split(X, y, test_size=0.2,\n",
    "                                                    stratify=y, random_state=42)\n",
    "\n",
    "num_cols = X_train.select_dtypes(np.number).columns.tolist()\n",
    "cat_cols = X_train.select_dtypes(exclude=np.number).columns.tolist()\n",
    "\n",
    "pre = ColumnTransformer([(\"num\", StandardScaler(), num_cols),\n",
    "                         (\"cat\", OneHotEncoder(handle_unknown=\"ignore\"), cat_cols)])\n",
    "\n",
    "grids = import_module(\"grids\")\n",
    "cv = StratifiedKFold(n_splits=5, shuffle=True, random_state=42)\n"
   ]
  },
  {
   "cell_type": "markdown",
   "id": "fe33ebfe",
   "metadata": {},
   "source": [
    "## 1) Logistic Regression baseline"
   ]
  },
  {
   "cell_type": "code",
   "execution_count": null,
   "id": "186cb4b4",
   "metadata": {},
   "outputs": [],
   "source": [
    "\n",
    "pipe_lr = Pipeline([(\"pre\", pre), (\"model\", LogisticRegression(max_iter=1000))])\n",
    "search_lr = RandomizedSearchCV(pipe_lr, param_distributions=grids.logreg_dist,\n",
    "                               n_iter=30, cv=cv, n_jobs=-1, scoring=\"f1\", random_state=42)\n",
    "search_lr.fit(X_train, y_train)\n",
    "best_lr = search_lr.best_estimator_\n",
    "cal_lr = CalibratedClassifierCV(best_lr, cv=3).fit(X_train, y_train)\n",
    "p_lr = cal_lr.predict_proba(X_test)[:,1]\n",
    "print(\"LR ROC AUC:\", roc_auc_score(y_test, p_lr), \"AP:\", average_precision_score(y_test, p_lr), \"Brier:\", brier_score_loss(y_test, p_lr))\n",
    "print(classification_report(y_test, (p_lr>=0.5).astype(int)))\n"
   ]
  },
  {
   "cell_type": "markdown",
   "id": "793746c8",
   "metadata": {},
   "source": [
    "## 2) Random Forest"
   ]
  },
  {
   "cell_type": "code",
   "execution_count": null,
   "id": "12dcfa2e",
   "metadata": {},
   "outputs": [],
   "source": [
    "\n",
    "pipe_rf = Pipeline([(\"pre\", pre), (\"clf\", RandomForestClassifier(random_state=42, n_jobs=-1))])\n",
    "search_rf = RandomizedSearchCV(pipe_rf, param_distributions=grids.rf_grid,\n",
    "                               n_iter=20, cv=cv, n_jobs=-1, scoring=\"roc_auc\", random_state=42)\n",
    "search_rf.fit(X_train, y_train)\n",
    "best_rf = search_rf.best_estimator_\n",
    "p_rf = best_rf.predict_proba(X_test)[:,1]\n",
    "print(\"RF ROC AUC:\", roc_auc_score(y_test, p_rf), \"AP:\", average_precision_score(y_test, p_rf))\n"
   ]
  },
  {
   "cell_type": "markdown",
   "id": "1ad1e11e",
   "metadata": {},
   "source": [
    "## 3) Histogram-based Gradient Boosting"
   ]
  },
  {
   "cell_type": "code",
   "execution_count": null,
   "id": "6dc55b79",
   "metadata": {},
   "outputs": [],
   "source": [
    "\n",
    "pipe_hgb = Pipeline([(\"pre\", pre), (\"model\", HistGradientBoostingClassifier(early_stopping=True, random_state=42))])\n",
    "search_hgb = RandomizedSearchCV(pipe_hgb, param_distributions=grids.hgb_dist,\n",
    "                                n_iter=20, cv=cv, n_jobs=-1, scoring=\"roc_auc\", random_state=42)\n",
    "search_hgb.fit(X_train, y_train)\n",
    "best_hgb = search_hgb.best_estimator_\n",
    "p_hgb = best_hgb.predict_proba(X_test)[:,1]\n",
    "print(\"HGB ROC AUC:\", roc_auc_score(y_test, p_hgb), \"AP:\", average_precision_score(y_test, p_hgb))\n"
   ]
  },
  {
   "cell_type": "markdown",
   "id": "cc802004",
   "metadata": {},
   "source": [
    "## 4) SVC (RBF) — scaled"
   ]
  },
  {
   "cell_type": "code",
   "execution_count": null,
   "id": "4c1f6669",
   "metadata": {},
   "outputs": [],
   "source": [
    "\n",
    "pipe_svc = Pipeline([(\"pre\", pre), (\"model\", SVC(kernel=\"rbf\", probability=True))])\n",
    "search_svc = RandomizedSearchCV(pipe_svc, param_distributions=grids.svc_dist,\n",
    "                                n_iter=30, cv=cv, n_jobs=-1, scoring=\"roc_auc\", random_state=42)\n",
    "search_svc.fit(X_train, y_train)\n",
    "best_svc = search_svc.best_estimator_\n",
    "p_svc = best_svc.predict_proba(X_test)[:,1]\n",
    "print(\"SVC ROC AUC:\", roc_auc_score(y_test, p_svc), \"AP:\", average_precision_score(y_test, p_svc))\n"
   ]
  },
  {
   "cell_type": "markdown",
   "id": "bd3c8bef",
   "metadata": {},
   "source": [
    "## 5) kNN (remember: scaling matters)"
   ]
  },
  {
   "cell_type": "code",
   "execution_count": null,
   "id": "19954095",
   "metadata": {},
   "outputs": [],
   "source": [
    "\n",
    "pipe_knn = Pipeline([(\"pre\", pre), (\"model\", KNeighborsClassifier())])\n",
    "from scipy.stats import randint\n",
    "search_knn = RandomizedSearchCV(pipe_knn, param_distributions=grids.knn_grid,\n",
    "                                n_iter=20, cv=cv, n_jobs=-1, scoring=\"roc_auc\", random_state=42)\n",
    "search_knn.fit(X_train, y_train)\n",
    "best_knn = search_knn.best_estimator_\n",
    "p_knn = best_knn.predict_proba(X_test)[:,1]\n",
    "print(\"kNN ROC AUC:\", roc_auc_score(y_test, p_knn), \"AP:\", average_precision_score(y_test, p_knn))\n"
   ]
  },
  {
   "cell_type": "markdown",
   "id": "fb979baf",
   "metadata": {},
   "source": [
    "## Save the best (by AUC)"
   ]
  },
  {
   "cell_type": "code",
   "execution_count": null,
   "id": "3a0766f5",
   "metadata": {},
   "outputs": [],
   "source": [
    "\n",
    "cands = {\"lr\": p_lr, \"rf\": p_rf, \"hgb\": p_hgb, \"svc\": p_svc, \"knn\": p_knn}\n",
    "best_name = max(cands, key=lambda k: roc_auc_score(y_test, cands[k]))\n",
    "best_model = {\"lr\": cal_lr, \"rf\": best_rf, \"hgb\": best_hgb, \"svc\": best_svc, \"knn\": best_knn}[best_name]\n",
    "print(\"Best by ROC AUC:\", best_name)\n",
    "joblib.dump(best_model, str(Path(\"../models/best_pipeline.joblib\")))\n"
   ]
  }
 ],
 "metadata": {},
 "nbformat": 4,
 "nbformat_minor": 5
}